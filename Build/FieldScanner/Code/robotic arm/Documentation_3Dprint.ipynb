{
 "cells": [
  {
   "cell_type": "markdown",
   "metadata": {},
   "source": [
    "## 3-D printer arm extension\n",
    "\n",
    "For the measurements with the 3-D printer we needed a way to scan outside the main frame of the printer itself. We detached the heating plate at the bottom so it has an open bottom. To extend the arm of the printer we used an aluminium rod of about 20 centimeters so it would not interfere with the magnetic fields. The rod had a U-shape. The wire of the Hall sensor fitted perfectly snug inside the shape, so only the sensor would stick out at the end of the rod and would sit still. To attach the rod to the arm of the printer we made a 3-D print that we could fix with bolts and screws. In the middle of the print we made a hole so the rod would fit perfectly straight down. The hole was tight enough that we did not need glue or anything else. It would just sit snug. The code for this print is also available in the file."
   ]
  }
 ],
 "metadata": {
  "language_info": {
   "name": "python"
  }
 },
 "nbformat": 4,
 "nbformat_minor": 2
}
