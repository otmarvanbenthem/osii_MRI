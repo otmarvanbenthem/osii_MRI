{
 "cells": [
  {
   "cell_type": "markdown",
   "metadata": {},
   "source": [
    "## 3-D field scanner: Using a LED strip for calculation of the speed profile of the 3-D printer \n",
    "\n",
    "## Purpose\n",
    "In this notebook, we will give a detailed explanation of how we got a speed profile of the 3-d printer. This was necessary for knowing where the hall sensor was at what time, which was important for getting an accurate picture of what the magnetic field looked like.\n",
    "## General idea\n",
    "We attach a light sensor to the arm of the 3-D printer and measure light at equal intervals on the z-axis. The light sensor then measures peaks at certain times and we can calculate a spedd profile of the arm.\n",
    "## Steps\n",
    "1. Build a row of lightsources at constant intervals\n",
    "2. Explanation of code of LED strip\n",
    "3. Explanation of GCode for 3-D printer"
   ]
  },
  {
   "cell_type": "markdown",
   "metadata": {},
   "source": [
    "## Light source\n",
    "To get light sources at constant intervals we used a PVC tube. We drilled holes with a diameter of approximately 1 mm. They need to be small so the location at which the light sensor measures light is small en you get an accurate representation of position to time. However do not make it too small otherwise you might get diffraction of the light, which only decreases the precision.\n",
    "These holes where located at intervals of 1 cm. \n",
    "Inside the PVC tube we put a Neopixel WS2812b LED strip. Through an Arduino Uno WiFi we could determine the intensity and how many LEDs the strip had. In the next part we will explain the code we used."
   ]
  },
  {
   "cell_type": "markdown",
   "metadata": {},
   "source": [
    "Below is the code for the arduino. The only things you need to check is to which pin you need to cennect the lightstrip, which you can change by altering the number after #define PIN; and how many NeoPixels the lightstrip has, which you need to change by altering the number behind #define NUMPIXELS. The rest of the code is ready for use."
   ]
  },
  {
   "cell_type": "code",
   "execution_count": null,
   "metadata": {
    "vscode": {
     "languageId": "cpp"
    }
   },
   "outputs": [],
   "source": [
    "// NeoPixel Ring simple sketch (c) 2013 Shae Erisson\n",
    "// Released under the GPLv3 license to match the rest of the\n",
    "// Adafruit NeoPixel library\n",
    "\n",
    "#include <Adafruit_NeoPixel.h>\n",
    "#ifdef __AVR__\n",
    " #include <avr/power.h> // Required for 16 MHz Adafruit Trinket\n",
    "#endif\n",
    "\n",
    "// Which pin on the Arduino is connected to the NeoPixels?\n",
    "#define PIN        6\n",
    "\n",
    "// How many NeoPixels are attached to the Arduino?\n",
    "#define NUMPIXELS 30 \n",
    "\n",
    "// When setting up the NeoPixel library, we tell it how many pixels,\n",
    "// and which pin to use to send signals. Note that for older NeoPixel\n",
    "// strips you might need to change the third parameter.\n",
    "Adafruit_NeoPixel pixels(NUMPIXELS, PIN, NEO_GRB + NEO_KHZ800);\n",
    "\n",
    "#define DELAYVAL 500 // Time (in milliseconds) to pause between pixels\n",
    "\n",
    "void setup() {\n",
    "  // These lines are specifically to support the Adafruit Trinket 5V 16 MHz.\n",
    "  // Any other board, you can remove this part (but no harm leaving it):\n",
    "#if defined(__AVR_ATtiny85__) && (F_CPU == 16000000)\n",
    "  clock_prescale_set(clock_div_1);\n",
    "#endif\n",
    "  // END of Trinket-specific code.\n",
    "\n",
    "  pixels.begin(); // INITIALIZE NeoPixel strip object (REQUIRED)\n",
    "}\n",
    "\n",
    "void loop() {\n",
    "\n",
    "  // The first NeoPixel in a strand is #0, second is 1, all the way up\n",
    "  // to the count of pixels minus one.\n",
    "  for(int i=0; i<NUMPIXELS ; i++) { // For each pixel...\n",
    "\n",
    "    // pixels.Color() takes RGB values, from 0,0,0 up to 255,255,255\n",
    "    // Here we're using a bright white colour:\n",
    "    pixels.setPixelColor(i, pixels.Color(255, 255, 255));\n",
    "\n",
    "    pixels.show();   // Send the updated pixel colours to the hardware.\n",
    "\n",
    "  }\n",
    "}  "
   ]
  },
  {
   "cell_type": "markdown",
   "metadata": {},
   "source": [
    "## 3-D printer\n",
    "For measuring you also need a machine that can make controllable movements to which you can attach the light sensor. We used a FLsun Q5 3-D printer. However there were some changes made beforehand so we could use it as a controllable arm instead of a regular 3-D printer. The filament coil was removed and also the cooling fan on the arm was detached. When we received the printer we also removed the heeating plate on which you normally print so that we could later on measure the magnetic field below the printer using an extension of the arm, we will come back on this. Now we have a machine that we could use to make measurements. \n",
    "\n",
    "The printer is controlled using GCode. There are two ways of sending GCode to the printer: either with a micro SD card or using USB cables. We used the micro SD card. We put a GCode file on the memory card and after inserting the memory card on the printer you can start the file using the screen on the printer itself. The code will be explained next.\n",
    "\n",
    "Since we attached both the light sensor and the Hall sensor to the wires which normally connect to the cooling fan, we activate the sensors by telling the printer to start the fan. If we want to start the measurement we turn on the \"fan\", wait a second, turn it off again and then start moving the arm. After we have moved the arm we stop the measurement again by turning it on and off again. This is all included in the GCode below. With this code the arm just goes straight up and down and takes a measurement while it is moving."
   ]
  },
  {
   "cell_type": "code",
   "execution_count": null,
   "metadata": {
    "vscode": {
     "languageId": "cpp"
    }
   },
   "outputs": [],
   "source": [
    "G21 ; millimeters\n",
    "G90 ; absolute coordinate\n",
    "G17 ; XY plane\n",
    "G94 ; units per minute feed rate mode\n",
    "F2000 ; set feed rate slow for measurement (mm/min)\n",
    "G28 ; Sends to home\n",
    "M204 T3000 ; sets acceleration\n",
    "\n",
    "; Create straight line through center\n",
    "G0 X0 Y0 Z210 ; Goes to the top\n",
    "G4 S5 ; Waits for 5 seconds\n",
    "M106 S1000 ; Turns the fan on (Starts measurement)\n",
    "G4 S1 ; Waits for 1 second\n",
    "M107 ; Turns the fan off\n",
    "G0 X0 Y0 Z0 ; Goes to the bottom\n",
    "M106 S1000 ; Turns the fan on (Stops measurement)\n",
    "G4 S1 ; Waits for 1 second\n",
    "M107 ; Turns the fan off\n",
    "G4 S5 ; Waits for 5 seconds\n",
    "M106 S1000 ; Turns the fan on (Starts measurement)\n",
    "G4 S1 ; Waits for 1 second\n",
    "M107 ; Turns the fan off\n",
    "G0 X0 Y0 Z210 ; Goes to the top\n",
    "M106 S1000 ; Turns the fan on (Stops measurement)\n",
    "G4 S1 ; Waits for 1 second\n",
    "M107 ; Turns the fan off\n",
    "G4 S5 ; Waits for 5 seconds\n",
    "M106 S1000 ; Turns the fan on (Starts measurement)\n",
    "G4 S1 ; Waits for 1 second\n",
    "M107 ; Turns the fan off\n",
    "G0 X0 Y0 Z0 ; Goes to the bottom\n",
    "M106 S1000 ; Turns the fan on (Stops measurement)\n",
    "G4 S1 ; Waits for 1 second\n",
    "M107 ; Turns the fan off\n",
    "G4 S5 ; Waits for 5 seconds\n",
    "M106 S1000 ; Turns the fan on (Starts measurement)\n",
    "G4 S1 ; Waits for 1 second\n",
    "M107 ; Turns the fan off\n",
    "G0 X0 Y0 Z210 ; Goes to the top\n",
    "M106 S1000 ; Turns the fan on (Stops measurement)\n",
    "G4 S1 ; Waits for 1 second\n",
    "M107 ; Turns the fan off"
   ]
  }
 ],
 "metadata": {
  "language_info": {
   "name": "python"
  }
 },
 "nbformat": 4,
 "nbformat_minor": 2
}
